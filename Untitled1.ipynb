{
  "nbformat": 4,
  "nbformat_minor": 0,
  "metadata": {
    "colab": {
      "name": "Untitled1.ipynb",
      "provenance": [],
      "authorship_tag": "ABX9TyM+T3FHOzVXBh+4ZjOsGh/P",
      "include_colab_link": true
    },
    "kernelspec": {
      "name": "python3",
      "display_name": "Python 3"
    }
  },
  "cells": [
    {
      "cell_type": "markdown",
      "metadata": {
        "id": "view-in-github",
        "colab_type": "text"
      },
      "source": [
        "<a href=\"https://colab.research.google.com/github/aps554/test/blob/master/Untitled1.ipynb\" target=\"_parent\"><img src=\"https://colab.research.google.com/assets/colab-badge.svg\" alt=\"Open In Colab\"/></a>"
      ]
    },
    {
      "cell_type": "code",
      "metadata": {
        "id": "3SjWnVkTqbcF"
      },
      "source": [
        "# This Python 3 environment comes with many helpful analytics libraries installed\n",
        "# It is defined by the kaggle/python docker image: https://github.com/kaggle/docker-python\n",
        "# For example, here's several helpful packages to load in \n",
        "\n",
        "import numpy as np # linear algebra\n",
        "import pandas as pd # data processing, CSV file I/O (e.g. pd.read_csv)\n",
        "\n",
        "# Input data files are available in the \"../input/\" directory.\n",
        "# For example, running this (by clicking run or pressing Shift+Enter) will list all files under the input directory\n",
        "\n",
        "import os\n",
        "for dirname, _, filenames in os.walk('/kaggle/input'):\n",
        "    for filename in filenames:\n",
        "        print(os.path.join(dirname, filename))\n",
        "\n",
        "# Any results you write to the current directory are saved as output."
      ],
      "execution_count": 1,
      "outputs": []
    },
    {
      "cell_type": "code",
      "metadata": {
        "id": "8Po7RJG7q8DW"
      },
      "source": [
        "import pandas as pd\n",
        "data = pd.read_csv(\"hotel_bookings[1].csv\")"
      ],
      "execution_count": 2,
      "outputs": []
    },
    {
      "cell_type": "code",
      "metadata": {
        "id": "Y7knI8wmrIIU"
      },
      "source": [
        "data = data.drop(['company'], axis = 1)\n",
        "data = data.dropna(axis = 0)"
      ],
      "execution_count": 3,
      "outputs": []
    },
    {
      "cell_type": "code",
      "metadata": {
        "id": "0WcAwnr6rNaj"
      },
      "source": [
        "data1 = data.copy()"
      ],
      "execution_count": 4,
      "outputs": []
    },
    {
      "cell_type": "code",
      "metadata": {
        "id": "2SgrG3WArQHD",
        "outputId": "d12fbb4f-0ebc-4a94-c9ff-186661b0a0e5",
        "colab": {
          "base_uri": "https://localhost:8080/"
        }
      },
      "source": [
        "data.info()"
      ],
      "execution_count": 5,
      "outputs": [
        {
          "output_type": "stream",
          "text": [
            "<class 'pandas.core.frame.DataFrame'>\n",
            "Int64Index: 56169 entries, 3 to 66446\n",
            "Data columns (total 31 columns):\n",
            " #   Column                          Non-Null Count  Dtype  \n",
            "---  ------                          --------------  -----  \n",
            " 0   hotel                           56169 non-null  object \n",
            " 1   is_canceled                     56169 non-null  int64  \n",
            " 2   lead_time                       56169 non-null  int64  \n",
            " 3   arrival_date_year               56169 non-null  int64  \n",
            " 4   arrival_date_month              56169 non-null  object \n",
            " 5   arrival_date_week_number        56169 non-null  int64  \n",
            " 6   arrival_date_day_of_month       56169 non-null  int64  \n",
            " 7   stays_in_weekend_nights         56169 non-null  int64  \n",
            " 8   stays_in_week_nights            56169 non-null  int64  \n",
            " 9   adults                          56169 non-null  int64  \n",
            " 10  children                        56169 non-null  float64\n",
            " 11  babies                          56169 non-null  int64  \n",
            " 12  meal                            56169 non-null  object \n",
            " 13  country                         56169 non-null  object \n",
            " 14  market_segment                  56169 non-null  object \n",
            " 15  distribution_channel            56169 non-null  object \n",
            " 16  is_repeated_guest               56169 non-null  int64  \n",
            " 17  previous_cancellations          56169 non-null  int64  \n",
            " 18  previous_bookings_not_canceled  56169 non-null  int64  \n",
            " 19  reserved_room_type              56169 non-null  object \n",
            " 20  assigned_room_type              56169 non-null  object \n",
            " 21  booking_changes                 56169 non-null  int64  \n",
            " 22  deposit_type                    56169 non-null  object \n",
            " 23  agent                           56169 non-null  float64\n",
            " 24  days_in_waiting_list            56169 non-null  int64  \n",
            " 25  customer_type                   56169 non-null  object \n",
            " 26  adr                             56169 non-null  float64\n",
            " 27  required_car_parking_spaces     56169 non-null  int64  \n",
            " 28  total_of_special_requests       56169 non-null  int64  \n",
            " 29  reservation_status              56169 non-null  object \n",
            " 30  reservation_status_date         56169 non-null  object \n",
            "dtypes: float64(3), int64(16), object(12)\n",
            "memory usage: 13.7+ MB\n"
          ],
          "name": "stdout"
        }
      ]
    },
    {
      "cell_type": "code",
      "metadata": {
        "id": "_UIcAMborTdD",
        "outputId": "aeca7ec0-4b55-417f-be90-514ce4ba70dc",
        "colab": {
          "base_uri": "https://localhost:8080/"
        }
      },
      "source": [
        "data['hotel'] = data['hotel'].map({'Resort Hotel':0, 'City Hotel':1})\n",
        "data['hotel'].unique()"
      ],
      "execution_count": 6,
      "outputs": [
        {
          "output_type": "execute_result",
          "data": {
            "text/plain": [
              "array([0, 1])"
            ]
          },
          "metadata": {
            "tags": []
          },
          "execution_count": 6
        }
      ]
    },
    {
      "cell_type": "code",
      "metadata": {
        "id": "_6Qq9mPirfFd",
        "outputId": "ea3c36df-c268-4dc4-e1ac-bf65c80cccae",
        "colab": {
          "base_uri": "https://localhost:8080/"
        }
      },
      "source": [
        "data['arrival_date_month'].unique()"
      ],
      "execution_count": 7,
      "outputs": [
        {
          "output_type": "execute_result",
          "data": {
            "text/plain": [
              "array(['July', 'August', 'September', 'October', 'November', 'December',\n",
              "       'January', 'February', 'March', 'April', 'May', 'June'],\n",
              "      dtype=object)"
            ]
          },
          "metadata": {
            "tags": []
          },
          "execution_count": 7
        }
      ]
    },
    {
      "cell_type": "code",
      "metadata": {
        "id": "SeYtT4HVrhdu",
        "outputId": "febf44d1-8353-4876-ddac-a647f687f882",
        "colab": {
          "base_uri": "https://localhost:8080/"
        }
      },
      "source": [
        "data['arrival_date_month'] = data['arrival_date_month'].map({'January':1, 'February': 2, 'March':3, 'April':4, 'May':5, 'June':6, 'July':7,\n",
        "                                                            'August':8, 'September':9, 'October':10, 'November':11, 'December':12})\n",
        "data['arrival_date_month'].unique()"
      ],
      "execution_count": 8,
      "outputs": [
        {
          "output_type": "execute_result",
          "data": {
            "text/plain": [
              "array([ 7,  8,  9, 10, 11, 12,  1,  2,  3,  4,  5,  6])"
            ]
          },
          "metadata": {
            "tags": []
          },
          "execution_count": 8
        }
      ]
    },
    {
      "cell_type": "code",
      "metadata": {
        "id": "LJrvrC3PsGfG",
        "outputId": "e8cc7fad-c22f-4e7a-fb6e-7c5861658b54",
        "colab": {
          "base_uri": "https://localhost:8080/"
        }
      },
      "source": [
        "data['customer_type'].unique()"
      ],
      "execution_count": 9,
      "outputs": [
        {
          "output_type": "execute_result",
          "data": {
            "text/plain": [
              "array(['Transient', 'Contract', 'Transient-Party', 'Group'], dtype=object)"
            ]
          },
          "metadata": {
            "tags": []
          },
          "execution_count": 9
        }
      ]
    },
    {
      "cell_type": "code",
      "metadata": {
        "id": "uhzOH-oysctd",
        "outputId": "40c3e218-c311-4b72-c1bf-29aa8182ee0d",
        "colab": {
          "base_uri": "https://localhost:8080/"
        }
      },
      "source": [
        "data['deposit_type'].unique()"
      ],
      "execution_count": 10,
      "outputs": [
        {
          "output_type": "execute_result",
          "data": {
            "text/plain": [
              "array(['No Deposit', 'Refundable', 'Non Refund'], dtype=object)"
            ]
          },
          "metadata": {
            "tags": []
          },
          "execution_count": 10
        }
      ]
    },
    {
      "cell_type": "code",
      "metadata": {
        "id": "sUEpgs4jseEu",
        "outputId": "a17a2add-516b-4424-9059-e1088b4a7564",
        "colab": {
          "base_uri": "https://localhost:8080/"
        }
      },
      "source": [
        "data['reservation_status'].unique()"
      ],
      "execution_count": 11,
      "outputs": [
        {
          "output_type": "execute_result",
          "data": {
            "text/plain": [
              "array(['Check-Out', 'Canceled', 'No-Show'], dtype=object)"
            ]
          },
          "metadata": {
            "tags": []
          },
          "execution_count": 11
        }
      ]
    },
    {
      "cell_type": "code",
      "metadata": {
        "id": "8hmeJHe-siel",
        "outputId": "77d829d5-7cc4-401f-e147-c22fa87ee822",
        "colab": {
          "base_uri": "https://localhost:8080/"
        }
      },
      "source": [
        "data['assigned_room_type'].unique()"
      ],
      "execution_count": 12,
      "outputs": [
        {
          "output_type": "execute_result",
          "data": {
            "text/plain": [
              "array(['A', 'C', 'D', 'E', 'G', 'F', 'I', 'B', 'H', 'K'], dtype=object)"
            ]
          },
          "metadata": {
            "tags": []
          },
          "execution_count": 12
        }
      ]
    },
    {
      "cell_type": "code",
      "metadata": {
        "id": "UqEuqLLmsiwq",
        "outputId": "fea17422-1415-4f0d-f827-d4cb0990c1cd",
        "colab": {
          "base_uri": "https://localhost:8080/"
        }
      },
      "source": [
        "# Import label encoder \n",
        "from sklearn import preprocessing \n",
        "  \n",
        "# label_encoder object knows how to understand word labels. \n",
        "label_encoder = preprocessing.LabelEncoder() \n",
        "  \n",
        "# Encode labels in column. \n",
        "data['customer_type']= label_encoder.fit_transform(data['customer_type']) \n",
        "data['assigned_room_type'] = label_encoder.fit_transform(data['assigned_room_type'])\n",
        "data['deposit_type'] = label_encoder.fit_transform(data['deposit_type'])\n",
        "data['reservation_status'] = label_encoder.fit_transform(data['reservation_status'])\n",
        "data['meal'] = label_encoder.fit_transform(data['meal'])\n",
        "data['country'] = label_encoder.fit_transform(data['country'])\n",
        "data['distribution_channel'] = label_encoder.fit_transform(data['distribution_channel'])\n",
        "data['market_segment'] = label_encoder.fit_transform(data['market_segment'])\n",
        "data['reserved_room_type'] = label_encoder.fit_transform(data['reserved_room_type'])\n",
        "data['reservation_status_date'] = label_encoder.fit_transform(data['reservation_status_date'])\n",
        "  \n",
        "print('customer_type:', data['customer_type'].unique())\n",
        "print('reservation_status', data['reservation_status'].unique())\n",
        "print('deposit_type', data['deposit_type'].unique())\n",
        "print('assigned_room_type', data['assigned_room_type'].unique())\n",
        "print('meal', data['meal'].unique())\n",
        "print('Country:',data['country'].unique())\n",
        "print('Dist_Channel:',data['distribution_channel'].unique())\n",
        "print('Market_seg:', data['market_segment'].unique())\n",
        "print('reserved_room_type:', data['reserved_room_type'].unique())"
      ],
      "execution_count": 13,
      "outputs": [
        {
          "output_type": "stream",
          "text": [
            "customer_type: [2 0 3 1]\n",
            "reservation_status [1 0 2]\n",
            "deposit_type [0 2 1]\n",
            "assigned_room_type [0 2 3 4 6 5 8 1 7 9]\n",
            "meal [0 1 2 3 4]\n",
            "Country: [ 49 110 136  42  64 112 100 103   4 108  35  47  10  21  26  56  69  37\n",
            " 113 122   6  43  34  18  45  93  19  84  99 121   1  63  23  90  87 134\n",
            "  85 109 118  22   7  17  83 130 141  32 142 143  39  78  30  60   3 129\n",
            "  70  59  57  68  65  50   2  53 135  71  20  33  27  51  79  97  89 138\n",
            " 120   0  46  74 104  61  80 106 116 123   8  14 102 126  38  91  96   5\n",
            "  73  82  31  25  94  28 119 133  13  24  72 124 117   9 115 140 107 111\n",
            "  41 105  92  95  67  40 101  29  15  86 125 131  36  77  44  66  58 114\n",
            "  76  88  12 137  62 127  98  11 139 132  48  16  52 128  54  75  81  55]\n",
            "Dist_Channel: [0 3 1 2]\n",
            "Market_seg: [2 6 3 5 4 1 0]\n",
            "reserved_room_type: [0 2 3 4 6 5 7 1]\n"
          ],
          "name": "stdout"
        }
      ]
    },
    {
      "cell_type": "code",
      "metadata": {
        "id": "R-83HmQosl1Y"
      },
      "source": [
        "from sklearn.model_selection import train_test_split \n",
        "from sklearn.linear_model import LinearRegression\n",
        "from sklearn import metrics\n",
        "from sklearn.metrics import r2_score\n",
        "from sklearn.model_selection import cross_val_score\n",
        "from sklearn.linear_model import Ridge\n",
        "from sklearn.linear_model import Lasso\n",
        "from sklearn.linear_model import LogisticRegression\n",
        "from sklearn.model_selection import GridSearchCV\n",
        "from sklearn.ensemble import RandomForestRegressor \n",
        "from sklearn.ensemble import AdaBoostRegressor"
      ],
      "execution_count": 14,
      "outputs": []
    },
    {
      "cell_type": "code",
      "metadata": {
        "id": "nQ0mUSngsoZS"
      },
      "source": [
        "X = data.drop(['previous_cancellations'], axis = 1)\n",
        "y = data['previous_cancellations']"
      ],
      "execution_count": 15,
      "outputs": []
    },
    {
      "cell_type": "code",
      "metadata": {
        "id": "ZS7mtbAfsqEK",
        "outputId": "45efb674-a8af-4f91-884e-05e644b0c2a3",
        "colab": {
          "base_uri": "https://localhost:8080/"
        }
      },
      "source": [
        "X_train, X_test, y_train, y_test = train_test_split(X, y, test_size=0.2, random_state=0)\n",
        "\n",
        "regressor = LinearRegression()  \n",
        "regressor.fit(X_train, y_train) #training the algorithm\n",
        "y_pred = regressor.predict(X_test)\n",
        "\n",
        "print('Mean Absolute Error_lng:', metrics.mean_absolute_error(y_test, y_pred).round(3))  \n",
        "print('Mean Squared Error_lng:', metrics.mean_squared_error(y_test, y_pred).round(3))  \n",
        "print('Root Mean Squared Error_lng:', np.sqrt(metrics.mean_squared_error(y_test, y_pred)).round(3))\n",
        "print('r2_score_lng:', r2_score(y_test, y_pred).round(3))\n",
        "\n",
        "## Linear Regression above##"
      ],
      "execution_count": 16,
      "outputs": [
        {
          "output_type": "stream",
          "text": [
            "Mean Absolute Error_lng: 0.186\n",
            "Mean Squared Error_lng: 0.813\n",
            "Root Mean Squared Error_lng: 0.902\n",
            "r2_score_lng: 0.037\n"
          ],
          "name": "stdout"
        }
      ]
    },
    {
      "cell_type": "code",
      "metadata": {
        "id": "_feh4j1qsrnK",
        "outputId": "e9796fbc-324a-49db-c77c-7aa0f97362ee",
        "colab": {
          "base_uri": "https://localhost:8080/"
        }
      },
      "source": [
        "ridge = Ridge(alpha=1.0)\n",
        "ridge.fit(X_train, y_train) #training the algorithm\n",
        "\n",
        "y_pred = ridge.predict(X_test)\n",
        "\n",
        "print('Mean Absolute Error_ridge:', metrics.mean_absolute_error(y_test, y_pred).round(3))  \n",
        "print('Mean Squared Error_ridge:', metrics.mean_squared_error(y_test, y_pred).round(3))  \n",
        "print('Root Mean Squared Error_ridge:', np.sqrt(metrics.mean_squared_error(y_test, y_pred)).round(3))\n",
        "print('r2_score_ridge:', r2_score(y_test, y_pred).round(3))\n",
        "\n",
        "## Ridge Regression above##"
      ],
      "execution_count": 17,
      "outputs": [
        {
          "output_type": "stream",
          "text": [
            "Mean Absolute Error_ridge: 0.186\n",
            "Mean Squared Error_ridge: 0.813\n",
            "Root Mean Squared Error_ridge: 0.902\n",
            "r2_score_ridge: 0.037\n"
          ],
          "name": "stdout"
        }
      ]
    },
    {
      "cell_type": "code",
      "metadata": {
        "id": "YOl3rqYrswVD",
        "outputId": "5b502252-f167-466a-ccda-89af85c4ca60",
        "colab": {
          "base_uri": "https://localhost:8080/"
        }
      },
      "source": [
        "clf = Lasso(alpha=0.1)\n",
        "\n",
        "clf.fit(X_train, y_train) #training the algorithm\n",
        "\n",
        "y_pred = clf.predict(X_test)\n",
        "\n",
        "print('Mean Absolute Error_lasso:', metrics.mean_absolute_error(y_test, y_pred).round(3))  \n",
        "print('Mean Squared Error_lasso:', metrics.mean_squared_error(y_test, y_pred).round(3))  \n",
        "print('Root Mean Squared Error_lasso:', np.sqrt(metrics.mean_squared_error(y_test, y_pred)).round(3))\n",
        "print('r2_score_lasso:', r2_score(y_test, y_pred).round(3))\n",
        "\n",
        "## Lasso Regression above##"
      ],
      "execution_count": 18,
      "outputs": [
        {
          "output_type": "stream",
          "text": [
            "Mean Absolute Error_lasso: 0.143\n",
            "Mean Squared Error_lasso: 0.833\n",
            "Root Mean Squared Error_lasso: 0.913\n",
            "r2_score_lasso: 0.014\n"
          ],
          "name": "stdout"
        }
      ]
    },
    {
      "cell_type": "code",
      "metadata": {
        "id": "45QS22RRsytc",
        "outputId": "abd18ae4-fdec-4e2f-c906-10ee91215da5",
        "colab": {
          "base_uri": "https://localhost:8080/"
        }
      },
      "source": [
        "logreg = LogisticRegression(solver = 'lbfgs')\n",
        "# fit the model with data\n",
        "logreg.fit(X_train,y_train)\n",
        "y_pred=logreg.predict(X_test)\n",
        "\n",
        "print('Mean Absolute Error_logreg:', metrics.mean_absolute_error(y_test, y_pred).round(3))  \n",
        "print('Mean Squared Error_logreg:', metrics.mean_squared_error(y_test, y_pred).round(3))  \n",
        "print('Root Mean Squared Error_logreg:', np.sqrt(metrics.mean_squared_error(y_test, y_pred)).round(3))\n",
        "print('r2_score_logreg:', r2_score(y_test, y_pred).round(3))\n",
        "\n",
        "## Logistics Regression above ##"
      ],
      "execution_count": 19,
      "outputs": [
        {
          "output_type": "stream",
          "text": [
            "Mean Absolute Error_logreg: 0.027\n",
            "Mean Squared Error_logreg: 0.385\n",
            "Root Mean Squared Error_logreg: 0.621\n",
            "r2_score_logreg: 0.544\n"
          ],
          "name": "stdout"
        },
        {
          "output_type": "stream",
          "text": [
            "/usr/local/lib/python3.6/dist-packages/sklearn/linear_model/_logistic.py:940: ConvergenceWarning: lbfgs failed to converge (status=1):\n",
            "STOP: TOTAL NO. of ITERATIONS REACHED LIMIT.\n",
            "\n",
            "Increase the number of iterations (max_iter) or scale the data as shown in:\n",
            "    https://scikit-learn.org/stable/modules/preprocessing.html\n",
            "Please also refer to the documentation for alternative solver options:\n",
            "    https://scikit-learn.org/stable/modules/linear_model.html#logistic-regression\n",
            "  extra_warning_msg=_LOGISTIC_SOLVER_CONVERGENCE_MSG)\n"
          ],
          "name": "stderr"
        }
      ]
    },
    {
      "cell_type": "code",
      "metadata": {
        "id": "qttdOW4Ys0qz",
        "outputId": "3848bad0-2413-44c3-99db-06a17315c106",
        "colab": {
          "base_uri": "https://localhost:8080/"
        }
      },
      "source": [
        "# Ridge Regression with Gridsearch ##\n",
        "from sklearn.model_selection import GridSearchCV\n",
        "\n",
        "parameters= {'alpha':[50,75,100,200, 230, 250], 'random_state':[5,10,20,50,], 'max_iter':[0.1,0.5,1,2,3,5]}\n",
        "\n",
        "grid = GridSearchCV(ridge, parameters, cv=5)\n",
        "grid.fit(X_train, y_train)\n",
        "print (\"Best_Score_Ridge : \", grid.best_score_)\n",
        "print('best_para_Ridge:', grid.best_params_)"
      ],
      "execution_count": 20,
      "outputs": [
        {
          "output_type": "stream",
          "text": [
            "Best_Score_Ridge :  0.034332962901898446\n",
            "best_para_Ridge: {'alpha': 250, 'max_iter': 0.1, 'random_state': 5}\n"
          ],
          "name": "stdout"
        }
      ]
    },
    {
      "cell_type": "code",
      "metadata": {
        "id": "Oq53Buzts5Sq",
        "outputId": "2dc93dc2-d432-4337-c59e-527b85baa603",
        "colab": {
          "base_uri": "https://localhost:8080/"
        }
      },
      "source": [
        "# Lasso Regression with Gridsearch ##\n",
        "from sklearn.model_selection import GridSearchCV\n",
        "\n",
        "parameters= {'alpha':[200, 230, 250,265, 270, 275, 290, 300], 'random_state':[2,5,10,20,50,], 'max_iter':[5,10,15,20,30,50,100]}\n",
        "\n",
        "grid = GridSearchCV(clf, parameters, cv=5)\n",
        "grid.fit(X_train, y_train)\n",
        "print (\"Best_Score_Lasso : \", grid.best_score_)\n",
        "print('best_para_Lasso:', grid.best_params_)"
      ],
      "execution_count": 21,
      "outputs": [
        {
          "output_type": "stream",
          "text": [
            "Best_Score_Lasso :  -0.0005140189132074368\n",
            "best_para_Lasso: {'alpha': 200, 'max_iter': 5, 'random_state': 2}\n"
          ],
          "name": "stdout"
        }
      ]
    },
    {
      "cell_type": "code",
      "metadata": {
        "id": "t9yyNWpxs7QA",
        "outputId": "c328a69a-3e88-4f76-f90a-97ff7fc663a7",
        "colab": {
          "base_uri": "https://localhost:8080/"
        }
      },
      "source": [
        " # create regressor object \n",
        "rfe = RandomForestRegressor(n_estimators = 100, random_state = 42) \n",
        "  \n",
        "# fit the regressor with x and y data \n",
        "rfe.fit(X, y)   \n",
        "y_pred=rfe.predict(X_test)\n",
        "print('Mean Absolute Error:', metrics.mean_absolute_error(y_test, y_pred))  \n",
        "print('Mean Squared Error:', metrics.mean_squared_error(y_test, y_pred))  \n",
        "print('Root Mean Squared Error:', np.sqrt(metrics.mean_squared_error(y_test, y_pred)))\n",
        "print('r2_score_RFE:', r2_score(y_test, y_pred).round(3))"
      ],
      "execution_count": 22,
      "outputs": [
        {
          "output_type": "stream",
          "text": [
            "Mean Absolute Error: 0.0033688693599473454\n",
            "Mean Squared Error: 0.01593781674994431\n",
            "Root Mean Squared Error: 0.1262450662400092\n",
            "r2_score_RFE: 0.981\n"
          ],
          "name": "stdout"
        }
      ]
    },
    {
      "cell_type": "code",
      "metadata": {
        "id": "RCazWXnAs9Nc",
        "outputId": "c72633eb-9dbb-4a8c-b6de-5d5378305928",
        "colab": {
          "base_uri": "https://localhost:8080/"
        }
      },
      "source": [
        "ABR = AdaBoostRegressor(n_estimators = 100, random_state = 42) \n",
        "  \n",
        "# fit the regressor with x and y data \n",
        "ABR.fit(X, y)   \n",
        "y_pred=ABR.predict(X_test)\n",
        "print('Mean Absolute Error:', metrics.mean_absolute_error(y_test, y_pred))  \n",
        "print('Mean Squared Error:', metrics.mean_squared_error(y_test, y_pred))  \n",
        "print('Root Mean Squared Error:', np.sqrt(metrics.mean_squared_error(y_test, y_pred)))\n",
        "print('r2_score_ABR:', r2_score(y_test, y_pred).round(3))"
      ],
      "execution_count": 23,
      "outputs": [
        {
          "output_type": "stream",
          "text": [
            "Mean Absolute Error: 0.026069788219228156\n",
            "Mean Squared Error: 0.03887991368783721\n",
            "Root Mean Squared Error: 0.19717990183544876\n",
            "r2_score_ABR: 0.954\n"
          ],
          "name": "stdout"
        }
      ]
    },
    {
      "cell_type": "code",
      "metadata": {
        "id": "QrYUfVlBs_Gv"
      },
      "source": [
        "import matplotlib.pyplot as plt\n",
        "%matplotlib inline\n",
        "import seaborn as sns"
      ],
      "execution_count": 24,
      "outputs": []
    },
    {
      "cell_type": "code",
      "metadata": {
        "id": "JbdRjXM-tDMm",
        "outputId": "c82fea7a-0de2-40b0-9a95-a478ca9f4995",
        "colab": {
          "base_uri": "https://localhost:8080/",
          "height": 352
        }
      },
      "source": [
        "plt.figure(figsize=(10,5))\n",
        "sns.barplot(x ='arrival_date_year', y = 'lead_time', data = data1)"
      ],
      "execution_count": 25,
      "outputs": [
        {
          "output_type": "execute_result",
          "data": {
            "text/plain": [
              "<matplotlib.axes._subplots.AxesSubplot at 0x7ff27b6f4c18>"
            ]
          },
          "metadata": {
            "tags": []
          },
          "execution_count": 25
        },
        {
          "output_type": "display_data",
          "data": {
            "image/png": "[encoded data removed]",
            "text/plain": [
              "<Figure size 720x360 with 1 Axes>"
            ]
          },
          "metadata": {
            "tags": [],
            "needs_background": "light"
          }
        }
      ]
    },
    {
      "cell_type": "code",
      "metadata": {
        "id": "50ARj8vctEym",
        "outputId": "92a220e7-3ed1-4206-ea56-434943a00410",
        "colab": {
          "base_uri": "https://localhost:8080/",
          "height": 352
        }
      },
      "source": [
        "plt.figure(figsize = (12,5))\n",
        "sns.barplot(x ='arrival_date_month', y = 'adults', data = data1)"
      ],
      "execution_count": 26,
      "outputs": [
        {
          "output_type": "execute_result",
          "data": {
            "text/plain": [
              "<matplotlib.axes._subplots.AxesSubplot at 0x7ff27b67ecc0>"
            ]
          },
          "metadata": {
            "tags": []
          },
          "execution_count": 26
        },
        {
          "output_type": "display_data",
          "data": {
            "image/png": "[encoded data removed]",
            "text/plain": [
              "<Figure size 864x360 with 1 Axes>"
            ]
          },
          "metadata": {
            "tags": [],
            "needs_background": "light"
          }
        }
      ]
    },
    {
      "cell_type": "code",
      "metadata": {
        "id": "in4Wmq2UtGPz",
        "outputId": "46fccf93-2960-48e7-cd41-6e5a12b3f0a9",
        "colab": {
          "base_uri": "https://localhost:8080/",
          "height": 436
        }
      },
      "source": [
        "data1.groupby(['arrival_date_year', 'arrival_date_month']).size().plot.bar(figsize=(15,5))"
      ],
      "execution_count": 27,
      "outputs": [
        {
          "output_type": "execute_result",
          "data": {
            "text/plain": [
              "<matplotlib.axes._subplots.AxesSubplot at 0x7ff27a94bc88>"
            ]
          },
          "metadata": {
            "tags": []
          },
          "execution_count": 27
        },
        {
          "output_type": "display_data",
          "data": {
            "image/png": "[encoded data removed]",
            "text/plain": [
              "<Figure size 1080x360 with 1 Axes>"
            ]
          },
          "metadata": {
            "tags": [],
            "needs_background": "light"
          }
        }
      ]
    },
    {
      "cell_type": "code",
      "metadata": {
        "id": "YC4yJ-fEtIDv",
        "outputId": "7986c844-1acd-41c9-a009-1ff75cf617d7",
        "colab": {
          "base_uri": "https://localhost:8080/",
          "height": 396
        }
      },
      "source": [
        "data1.groupby(['arrival_date_month'])['arrival_date_year'].size().plot.bar(figsize=(15,5))"
      ],
      "execution_count": 28,
      "outputs": [
        {
          "output_type": "execute_result",
          "data": {
            "text/plain": [
              "<matplotlib.axes._subplots.AxesSubplot at 0x7ff27a831eb8>"
            ]
          },
          "metadata": {
            "tags": []
          },
          "execution_count": 28
        },
        {
          "output_type": "display_data",
          "data": {
            "image/png": "[encoded data removed]",
            "text/plain": [
              "<Figure size 1080x360 with 1 Axes>"
            ]
          },
          "metadata": {
            "tags": [],
            "needs_background": "light"
          }
        }
      ]
    },
    {
      "cell_type": "code",
      "metadata": {
        "id": "drYX7uSVtMbS",
        "outputId": "ef151b5d-cfb8-4f5c-fe60-1219a51233c9",
        "colab": {
          "base_uri": "https://localhost:8080/",
          "height": 421
        }
      },
      "source": [
        "plt.figure(figsize = (30,10))\n",
        "\n",
        "data1.groupby(['country']).size().sort_values(ascending= False).head(15).plot.bar()"
      ],
      "execution_count": 29,
      "outputs": [
        {
          "output_type": "execute_result",
          "data": {
            "text/plain": [
              "<matplotlib.axes._subplots.AxesSubplot at 0x7ff27a760518>"
            ]
          },
          "metadata": {
            "tags": []
          },
          "execution_count": 29
        },
        {
          "output_type": "display_data",
          "data": {
            "image/png": "[encoded data removed]",
            "text/plain": [
              "<Figure size 2160x720 with 1 Axes>"
            ]
          },
          "metadata": {
            "tags": [],
            "needs_background": "light"
          }
        }
      ]
    },
    {
      "cell_type": "code",
      "metadata": {
        "id": "WsNVmG4OtOAu",
        "outputId": "8f5ecf4b-01e5-4f1c-9ea9-da9eb493bc4c",
        "colab": {
          "base_uri": "https://localhost:8080/"
        }
      },
      "source": [
        "data1.groupby(['country']).size().sort_values(ascending=False)"
      ],
      "execution_count": 30,
      "outputs": [
        {
          "output_type": "execute_result",
          "data": {
            "text/plain": [
              "country\n",
              "PRT    24257\n",
              "GBR     6864\n",
              "ESP     5366\n",
              "FRA     3253\n",
              "IRL     2332\n",
              "       ...  \n",
              "FJI        1\n",
              "HND        1\n",
              "GAB        1\n",
              "GNB        1\n",
              "MWI        1\n",
              "Length: 144, dtype: int64"
            ]
          },
          "metadata": {
            "tags": []
          },
          "execution_count": 30
        }
      ]
    },
    {
      "cell_type": "code",
      "metadata": {
        "id": "PU-qrUxktPaE",
        "outputId": "d856726a-bfd4-42fd-cf25-f2982b19869c",
        "colab": {
          "base_uri": "https://localhost:8080/",
          "height": 447
        }
      },
      "source": [
        "data.groupby(['arrival_date_month','arrival_date_year'])['children', 'babies'].sum().plot.bar(figsize=(15,5))\n",
        "\n"
      ],
      "execution_count": 31,
      "outputs": [
        {
          "output_type": "stream",
          "text": [
            "/usr/local/lib/python3.6/dist-packages/ipykernel_launcher.py:1: FutureWarning: Indexing with multiple keys (implicitly converted to a tuple of keys) will be deprecated, use a list instead.\n",
            "  \"\"\"Entry point for launching an IPython kernel.\n"
          ],
          "name": "stderr"
        },
        {
          "output_type": "execute_result",
          "data": {
            "text/plain": [
              "<matplotlib.axes._subplots.AxesSubplot at 0x7ff27a6b74e0>"
            ]
          },
          "metadata": {
            "tags": []
          },
          "execution_count": 31
        },
        {
          "output_type": "display_data",
          "data": {
            "image/png": "[encoded data removed]",
            "text/plain": [
              "<Figure size 1080x360 with 1 Axes>"
            ]
          },
          "metadata": {
            "tags": [],
            "needs_background": "light"
          }
        }
      ]
    },
    {
      "cell_type": "code",
      "metadata": {
        "id": "Fs-E50FgtRFv",
        "outputId": "53c73d40-04dd-49f5-deb8-eed5294ab19c",
        "colab": {
          "base_uri": "https://localhost:8080/",
          "height": 458
        }
      },
      "source": [
        "plt.title('Cancellation')\n",
        "plt.ylabel('Cancel_Sum')\n",
        "\n",
        "data1.groupby(['hotel','arrival_date_year'])['is_canceled'].sum().plot.bar(figsize=(10,5))"
      ],
      "execution_count": 32,
      "outputs": [
        {
          "output_type": "execute_result",
          "data": {
            "text/plain": [
              "<matplotlib.axes._subplots.AxesSubplot at 0x7ff27a711cc0>"
            ]
          },
          "metadata": {
            "tags": []
          },
          "execution_count": 32
        },
        {
          "output_type": "display_data",
          "data": {
            "image/png": "[encoded data removed]",
            "text/plain": [
              "<Figure size 720x360 with 1 Axes>"
            ]
          },
          "metadata": {
            "tags": [],
            "needs_background": "light"
          }
        }
      ]
    },
    {
      "cell_type": "code",
      "metadata": {
        "id": "Ro41sAbBtSyK",
        "outputId": "4be199ef-f239-4b42-d58a-a46fd8b628f5",
        "colab": {
          "base_uri": "https://localhost:8080/",
          "height": 383
        }
      },
      "source": [
        "data1.groupby(['hotel'])['booking_changes'].sum().plot.pie(radius = 2)\n",
        "plt.show()"
      ],
      "execution_count": 33,
      "outputs": [
        {
          "output_type": "display_data",
          "data": {
            "image/png": "[encoded data removed]",
            "text/plain": [
              "<Figure size 432x288 with 1 Axes>"
            ]
          },
          "metadata": {
            "tags": []
          }
        }
      ]
    },
    {
      "cell_type": "code",
      "metadata": {
        "id": "EFYaf0jAtU7g",
        "outputId": "dc6f0b4f-d922-42f6-b9e1-05b2522ef252",
        "colab": {
          "base_uri": "https://localhost:8080/"
        }
      },
      "source": [
        "data1.groupby(['country'])['required_car_parking_spaces'].sum().sort_values(ascending=False)"
      ],
      "execution_count": 34,
      "outputs": [
        {
          "output_type": "execute_result",
          "data": {
            "text/plain": [
              "country\n",
              "PRT    1531\n",
              "ESP     793\n",
              "FRA     314\n",
              "GBR     295\n",
              "DEU     126\n",
              "       ... \n",
              "LKA       0\n",
              "MAC       0\n",
              "MCO       0\n",
              "MDV       0\n",
              "JEY       0\n",
              "Name: required_car_parking_spaces, Length: 144, dtype: int64"
            ]
          },
          "metadata": {
            "tags": []
          },
          "execution_count": 34
        }
      ]
    },
    {
      "cell_type": "code",
      "metadata": {
        "id": "OUwet40XtWza",
        "outputId": "02987408-648e-4699-9008-a3969e5b0649",
        "colab": {
          "base_uri": "https://localhost:8080/",
          "height": 365
        }
      },
      "source": [
        "data1.groupby(['country'])['required_car_parking_spaces'].sum().sort_values(ascending=False).head(15).plot.bar(figsize=(10,5))"
      ],
      "execution_count": 35,
      "outputs": [
        {
          "output_type": "execute_result",
          "data": {
            "text/plain": [
              "<matplotlib.axes._subplots.AxesSubplot at 0x7ff27a49eb38>"
            ]
          },
          "metadata": {
            "tags": []
          },
          "execution_count": 35
        },
        {
          "output_type": "display_data",
          "data": {
            "image/png": "[encoded data removed]",
            "text/plain": [
              "<Figure size 720x360 with 1 Axes>"
            ]
          },
          "metadata": {
            "tags": [],
            "needs_background": "light"
          }
        }
      ]
    },
    {
      "cell_type": "code",
      "metadata": {
        "id": "Ul79ZqyjtYhT",
        "outputId": "142d0cb8-e188-4d62-b338-470cee350d5e",
        "colab": {
          "base_uri": "https://localhost:8080/",
          "height": 345
        }
      },
      "source": [
        "data1.groupby(['deposit_type']).size().plot.bar()"
      ],
      "execution_count": 36,
      "outputs": [
        {
          "output_type": "execute_result",
          "data": {
            "text/plain": [
              "<matplotlib.axes._subplots.AxesSubplot at 0x7ff27a50ef98>"
            ]
          },
          "metadata": {
            "tags": []
          },
          "execution_count": 36
        },
        {
          "output_type": "display_data",
          "data": {
            "image/png": "[encoded data removed]",
            "text/plain": [
              "<Figure size 432x288 with 1 Axes>"
            ]
          },
          "metadata": {
            "tags": [],
            "needs_background": "light"
          }
        }
      ]
    },
    {
      "cell_type": "code",
      "metadata": {
        "id": "-HVxG2jetZ0W",
        "outputId": "8e231c86-4573-4683-9acd-2a7203774c8a",
        "colab": {
          "base_uri": "https://localhost:8080/"
        }
      },
      "source": [
        "data1.country.unique()"
      ],
      "execution_count": 37,
      "outputs": [
        {
          "output_type": "execute_result",
          "data": {
            "text/plain": [
              "array(['GBR', 'PRT', 'USA', 'ESP', 'IRL', 'ROU', 'NOR', 'OMN', 'ARG',\n",
              "       'POL', 'DEU', 'FRA', 'BEL', 'CHE', 'CN', 'GRC', 'ITA', 'DNK',\n",
              "       'RUS', 'SWE', 'AUS', 'EST', 'CZE', 'BRA', 'FIN', 'MOZ', 'BWA',\n",
              "       'LUX', 'NLD', 'SVN', 'ALB', 'IND', 'CHN', 'MEX', 'MAR', 'UKR',\n",
              "       'LVA', 'PRI', 'SRB', 'CHL', 'AUT', 'BLR', 'LTU', 'TUR', 'ZAF',\n",
              "       'CYM', 'ZMB', 'ZWE', 'DZA', 'KOR', 'CRI', 'HUN', 'ARE', 'TUN',\n",
              "       'JAM', 'HRV', 'HKG', 'ISR', 'IRN', 'GEO', 'AND', 'GIB', 'URY',\n",
              "       'JEY', 'CAF', 'CYP', 'COL', 'GGY', 'KWT', 'NGA', 'MDV', 'VEN',\n",
              "       'SVK', 'AGO', 'FJI', 'KAZ', 'PAK', 'IDN', 'LBN', 'PHL', 'SEN',\n",
              "       'SYC', 'AZE', 'BHR', 'NZL', 'THA', 'DOM', 'MKD', 'MYS', 'ARM',\n",
              "       'JPN', 'LKA', 'CUB', 'CMR', 'MUS', 'COM', 'SUR', 'UGA', 'BGR',\n",
              "       'CIV', 'JOR', 'SYR', 'SGP', 'BDI', 'SAU', 'VNM', 'PLW', 'QAT',\n",
              "       'EGY', 'PER', 'MLT', 'MWI', 'ISL', 'ECU', 'NPL', 'CPV', 'BHS',\n",
              "       'MAC', 'TGO', 'TWN', 'DJI', 'KNA', 'ETH', 'IRQ', 'HND', 'RWA',\n",
              "       'KHM', 'MCO', 'BGD', 'UZB', 'IMN', 'TJK', 'NIC', 'BEN', 'VGB',\n",
              "       'TZA', 'GAB', 'BIH', 'GHA', 'TMP', 'GLP', 'KEN', 'LIE', 'GNB'],\n",
              "      dtype=object)"
            ]
          },
          "metadata": {
            "tags": []
          },
          "execution_count": 37
        }
      ]
    },
    {
      "cell_type": "code",
      "metadata": {
        "id": "x02HtBpOtbRb"
      },
      "source": [
        "df_us = data1[data1.country == 'USA']\n",
        "df_uk = data1[data1.country == 'GBR']\n",
        "df_po = data1[data1.country == 'PRT']\n",
        "df_ger = data1[data1.country == 'DEU']\n",
        "df_sp = data1[data1.country == 'ESP']"
      ],
      "execution_count": 38,
      "outputs": []
    },
    {
      "cell_type": "code",
      "metadata": {
        "id": "AZzr_5MttdDo",
        "outputId": "c70b2d87-e907-4f72-e48e-19ba1ad75218",
        "colab": {
          "base_uri": "https://localhost:8080/",
          "height": 299
        }
      },
      "source": [
        "df_us.head()"
      ],
      "execution_count": 39,
      "outputs": [
        {
          "output_type": "execute_result",
          "data": {
            "text/html": [
              "<div>\n",
              "<style scoped>\n",
              "    .dataframe tbody tr th:only-of-type {\n",
              "        vertical-align: middle;\n",
              "    }\n",
              "\n",
              "    .dataframe tbody tr th {\n",
              "        vertical-align: top;\n",
              "    }\n",
              "\n",
              "    .dataframe thead th {\n",
              "        text-align: right;\n",
              "    }\n",
              "</style>\n",
              "<table border=\"1\" class=\"dataframe\">\n",
              "  <thead>\n",
              "    <tr style=\"text-align: right;\">\n",
              "      <th></th>\n",
              "      <th>hotel</th>\n",
              "      <th>is_canceled</th>\n",
              "      <th>lead_time</th>\n",
              "      <th>arrival_date_year</th>\n",
              "      <th>arrival_date_month</th>\n",
              "      <th>arrival_date_week_number</th>\n",
              "      <th>arrival_date_day_of_month</th>\n",
              "      <th>stays_in_weekend_nights</th>\n",
              "      <th>stays_in_week_nights</th>\n",
              "      <th>adults</th>\n",
              "      <th>children</th>\n",
              "      <th>babies</th>\n",
              "      <th>meal</th>\n",
              "      <th>country</th>\n",
              "      <th>market_segment</th>\n",
              "      <th>distribution_channel</th>\n",
              "      <th>is_repeated_guest</th>\n",
              "      <th>previous_cancellations</th>\n",
              "      <th>previous_bookings_not_canceled</th>\n",
              "      <th>reserved_room_type</th>\n",
              "      <th>assigned_room_type</th>\n",
              "      <th>booking_changes</th>\n",
              "      <th>deposit_type</th>\n",
              "      <th>agent</th>\n",
              "      <th>days_in_waiting_list</th>\n",
              "      <th>customer_type</th>\n",
              "      <th>adr</th>\n",
              "      <th>required_car_parking_spaces</th>\n",
              "      <th>total_of_special_requests</th>\n",
              "      <th>reservation_status</th>\n",
              "      <th>reservation_status_date</th>\n",
              "    </tr>\n",
              "  </thead>\n",
              "  <tbody>\n",
              "    <tr>\n",
              "      <th>12</th>\n",
              "      <td>Resort Hotel</td>\n",
              "      <td>0</td>\n",
              "      <td>68</td>\n",
              "      <td>2015</td>\n",
              "      <td>July</td>\n",
              "      <td>27</td>\n",
              "      <td>1</td>\n",
              "      <td>0</td>\n",
              "      <td>4</td>\n",
              "      <td>2</td>\n",
              "      <td>0.0</td>\n",
              "      <td>0</td>\n",
              "      <td>BB</td>\n",
              "      <td>USA</td>\n",
              "      <td>Online TA</td>\n",
              "      <td>TA/TO</td>\n",
              "      <td>0</td>\n",
              "      <td>0</td>\n",
              "      <td>0</td>\n",
              "      <td>D</td>\n",
              "      <td>E</td>\n",
              "      <td>0</td>\n",
              "      <td>No Deposit</td>\n",
              "      <td>240.0</td>\n",
              "      <td>0</td>\n",
              "      <td>Transient</td>\n",
              "      <td>97.00</td>\n",
              "      <td>0</td>\n",
              "      <td>3</td>\n",
              "      <td>Check-Out</td>\n",
              "      <td>2015-07-05</td>\n",
              "    </tr>\n",
              "    <tr>\n",
              "      <th>59</th>\n",
              "      <td>Resort Hotel</td>\n",
              "      <td>0</td>\n",
              "      <td>14</td>\n",
              "      <td>2015</td>\n",
              "      <td>July</td>\n",
              "      <td>27</td>\n",
              "      <td>2</td>\n",
              "      <td>0</td>\n",
              "      <td>2</td>\n",
              "      <td>2</td>\n",
              "      <td>0.0</td>\n",
              "      <td>0</td>\n",
              "      <td>BB</td>\n",
              "      <td>USA</td>\n",
              "      <td>Online TA</td>\n",
              "      <td>TA/TO</td>\n",
              "      <td>0</td>\n",
              "      <td>0</td>\n",
              "      <td>0</td>\n",
              "      <td>A</td>\n",
              "      <td>C</td>\n",
              "      <td>0</td>\n",
              "      <td>No Deposit</td>\n",
              "      <td>242.0</td>\n",
              "      <td>0</td>\n",
              "      <td>Transient</td>\n",
              "      <td>98.00</td>\n",
              "      <td>0</td>\n",
              "      <td>1</td>\n",
              "      <td>Check-Out</td>\n",
              "      <td>2015-07-04</td>\n",
              "    </tr>\n",
              "    <tr>\n",
              "      <th>65</th>\n",
              "      <td>Resort Hotel</td>\n",
              "      <td>0</td>\n",
              "      <td>10</td>\n",
              "      <td>2015</td>\n",
              "      <td>July</td>\n",
              "      <td>27</td>\n",
              "      <td>3</td>\n",
              "      <td>0</td>\n",
              "      <td>2</td>\n",
              "      <td>2</td>\n",
              "      <td>2.0</td>\n",
              "      <td>0</td>\n",
              "      <td>BB</td>\n",
              "      <td>USA</td>\n",
              "      <td>Online TA</td>\n",
              "      <td>TA/TO</td>\n",
              "      <td>0</td>\n",
              "      <td>0</td>\n",
              "      <td>0</td>\n",
              "      <td>G</td>\n",
              "      <td>H</td>\n",
              "      <td>0</td>\n",
              "      <td>No Deposit</td>\n",
              "      <td>240.0</td>\n",
              "      <td>0</td>\n",
              "      <td>Transient</td>\n",
              "      <td>153.00</td>\n",
              "      <td>1</td>\n",
              "      <td>0</td>\n",
              "      <td>Check-Out</td>\n",
              "      <td>2015-07-05</td>\n",
              "    </tr>\n",
              "    <tr>\n",
              "      <th>92</th>\n",
              "      <td>Resort Hotel</td>\n",
              "      <td>0</td>\n",
              "      <td>9</td>\n",
              "      <td>2015</td>\n",
              "      <td>July</td>\n",
              "      <td>27</td>\n",
              "      <td>3</td>\n",
              "      <td>0</td>\n",
              "      <td>1</td>\n",
              "      <td>2</td>\n",
              "      <td>0.0</td>\n",
              "      <td>0</td>\n",
              "      <td>BB</td>\n",
              "      <td>USA</td>\n",
              "      <td>Online TA</td>\n",
              "      <td>TA/TO</td>\n",
              "      <td>0</td>\n",
              "      <td>0</td>\n",
              "      <td>0</td>\n",
              "      <td>C</td>\n",
              "      <td>C</td>\n",
              "      <td>0</td>\n",
              "      <td>No Deposit</td>\n",
              "      <td>241.0</td>\n",
              "      <td>0</td>\n",
              "      <td>Transient</td>\n",
              "      <td>94.71</td>\n",
              "      <td>0</td>\n",
              "      <td>0</td>\n",
              "      <td>Check-Out</td>\n",
              "      <td>2015-07-04</td>\n",
              "    </tr>\n",
              "    <tr>\n",
              "      <th>162</th>\n",
              "      <td>Resort Hotel</td>\n",
              "      <td>0</td>\n",
              "      <td>51</td>\n",
              "      <td>2015</td>\n",
              "      <td>July</td>\n",
              "      <td>28</td>\n",
              "      <td>6</td>\n",
              "      <td>1</td>\n",
              "      <td>3</td>\n",
              "      <td>2</td>\n",
              "      <td>0.0</td>\n",
              "      <td>0</td>\n",
              "      <td>BB</td>\n",
              "      <td>USA</td>\n",
              "      <td>Online TA</td>\n",
              "      <td>TA/TO</td>\n",
              "      <td>0</td>\n",
              "      <td>0</td>\n",
              "      <td>0</td>\n",
              "      <td>G</td>\n",
              "      <td>G</td>\n",
              "      <td>0</td>\n",
              "      <td>No Deposit</td>\n",
              "      <td>241.0</td>\n",
              "      <td>0</td>\n",
              "      <td>Transient</td>\n",
              "      <td>117.81</td>\n",
              "      <td>1</td>\n",
              "      <td>2</td>\n",
              "      <td>Check-Out</td>\n",
              "      <td>2015-07-10</td>\n",
              "    </tr>\n",
              "  </tbody>\n",
              "</table>\n",
              "</div>"
            ],
            "text/plain": [
              "            hotel  is_canceled  ...  reservation_status  reservation_status_date\n",
              "12   Resort Hotel            0  ...           Check-Out               2015-07-05\n",
              "59   Resort Hotel            0  ...           Check-Out               2015-07-04\n",
              "65   Resort Hotel            0  ...           Check-Out               2015-07-05\n",
              "92   Resort Hotel            0  ...           Check-Out               2015-07-04\n",
              "162  Resort Hotel            0  ...           Check-Out               2015-07-10\n",
              "\n",
              "[5 rows x 31 columns]"
            ]
          },
          "metadata": {
            "tags": []
          },
          "execution_count": 39
        }
      ]
    },
    {
      "cell_type": "code",
      "metadata": {
        "id": "VoFLhZvwtejD"
      },
      "source": [
        "df_merged = pd.concat([df_us, df_uk, df_po, df_ger, df_sp])"
      ],
      "execution_count": 40,
      "outputs": []
    },
    {
      "cell_type": "markdown",
      "metadata": {
        "id": "V7Ocf6VJtf8E"
      },
      "source": [
        "## Let's analyse data for US visitors"
      ]
    },
    {
      "cell_type": "code",
      "metadata": {
        "id": "-E1Z8BXftlVQ",
        "outputId": "bf464823-14a6-49cc-d2fa-dd5a8df3cd6b",
        "colab": {
          "base_uri": "https://localhost:8080/",
          "height": 352
        }
      },
      "source": [
        "plt.figure(figsize=(15,5))\n",
        "sns.barplot(x= 'arrival_date_month', y = 'booking_changes', data = df_us)"
      ],
      "execution_count": 43,
      "outputs": [
        {
          "output_type": "execute_result",
          "data": {
            "text/plain": [
              "<matplotlib.axes._subplots.AxesSubplot at 0x7ff27a833160>"
            ]
          },
          "metadata": {
            "tags": []
          },
          "execution_count": 43
        },
        {
          "output_type": "display_data",
          "data": {
            "image/png": "[encoded data removed]",
            "text/plain": [
              "<Figure size 1080x360 with 1 Axes>"
            ]
          },
          "metadata": {
            "tags": [],
            "needs_background": "light"
          }
        }
      ]
    },
    {
      "cell_type": "code",
      "metadata": {
        "id": "QZ5zZAIxttyV",
        "outputId": "0dbc6b9e-2993-4a67-9066-dd44e15939a1",
        "colab": {
          "base_uri": "https://localhost:8080/",
          "height": 352
        }
      },
      "source": [
        "plt.figure(figsize=(15,5))\n",
        "sns.scatterplot(x= 'stays_in_weekend_nights', y='stays_in_week_nights', hue = 'country', data = df_merged )"
      ],
      "execution_count": 44,
      "outputs": [
        {
          "output_type": "execute_result",
          "data": {
            "text/plain": [
              "<matplotlib.axes._subplots.AxesSubplot at 0x7ff27a711d30>"
            ]
          },
          "metadata": {
            "tags": []
          },
          "execution_count": 44
        },
        {
          "output_type": "display_data",
          "data": {
            "image/png": "[encoded data removed]",
            "text/plain": [
              "<Figure size 1080x360 with 1 Axes>"
            ]
          },
          "metadata": {
            "tags": [],
            "needs_background": "light"
          }
        }
      ]
    },
    {
      "cell_type": "code",
      "metadata": {
        "id": "QNDvFdcWtvkL"
      },
      "source": [
        ""
      ],
      "execution_count": null,
      "outputs": []
    }
  ]
}